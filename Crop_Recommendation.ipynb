{
 "cells": [
  {
   "cell_type": "markdown",
   "metadata": {},
   "source": [
    "The dataset contains the following columns:\n",
    "\n",
    "N : Ratio of Nitrogen content in soil\n",
    "\n",
    "P : Ratio of Phosphorous content in soil\n",
    "\n",
    "K : Ratio of Potassium content in soil\n",
    "\n",
    "temperature : Average temperature in Celsius\n",
    "\n",
    "humidity : Average relative humidity\n",
    "\n",
    "ph : pH value of the soil\n",
    "\n",
    "rainfall : Average rainfall in mm\n",
    "\n",
    "label : The label column contains the name of the recommended crop for the given combination of soil and climatic parameters."
   ]
  },
  {
   "cell_type": "code",
   "execution_count": 116,
   "metadata": {},
   "outputs": [],
   "source": [
    "# Importing libraries\n",
    "\n",
    "import pandas as pd\n",
    "import numpy as np\n",
    "import matplotlib.pyplot as plt\n",
    "import seaborn as sns\n",
    "from sklearn.metrics import classification_report\n",
    "from sklearn import metrics\n",
    "from sklearn import tree\n",
    "import warnings\n",
    "warnings.filterwarnings('ignore')"
   ]
  },
  {
   "cell_type": "code",
   "execution_count": 117,
   "metadata": {},
   "outputs": [],
   "source": [
    "df = pd.read_csv(r\"C:\\Users\\harsh\\Downloads\\Crop_recommendation.csv\")"
   ]
  },
  {
   "cell_type": "code",
   "execution_count": 118,
   "metadata": {
    "scrolled": true
   },
   "outputs": [
    {
     "data": {
      "text/html": [
       "<div>\n",
       "<style scoped>\n",
       "    .dataframe tbody tr th:only-of-type {\n",
       "        vertical-align: middle;\n",
       "    }\n",
       "\n",
       "    .dataframe tbody tr th {\n",
       "        vertical-align: top;\n",
       "    }\n",
       "\n",
       "    .dataframe thead th {\n",
       "        text-align: right;\n",
       "    }\n",
       "</style>\n",
       "<table border=\"1\" class=\"dataframe\">\n",
       "  <thead>\n",
       "    <tr style=\"text-align: right;\">\n",
       "      <th></th>\n",
       "      <th>N</th>\n",
       "      <th>P</th>\n",
       "      <th>K</th>\n",
       "      <th>temperature</th>\n",
       "      <th>humidity</th>\n",
       "      <th>ph</th>\n",
       "      <th>rainfall</th>\n",
       "      <th>label</th>\n",
       "    </tr>\n",
       "  </thead>\n",
       "  <tbody>\n",
       "    <tr>\n",
       "      <th>0</th>\n",
       "      <td>90</td>\n",
       "      <td>42</td>\n",
       "      <td>43</td>\n",
       "      <td>20.879744</td>\n",
       "      <td>82.002744</td>\n",
       "      <td>6.502985</td>\n",
       "      <td>202.935536</td>\n",
       "      <td>rice</td>\n",
       "    </tr>\n",
       "    <tr>\n",
       "      <th>1</th>\n",
       "      <td>85</td>\n",
       "      <td>58</td>\n",
       "      <td>41</td>\n",
       "      <td>21.770462</td>\n",
       "      <td>80.319644</td>\n",
       "      <td>7.038096</td>\n",
       "      <td>226.655537</td>\n",
       "      <td>rice</td>\n",
       "    </tr>\n",
       "    <tr>\n",
       "      <th>2</th>\n",
       "      <td>60</td>\n",
       "      <td>55</td>\n",
       "      <td>44</td>\n",
       "      <td>23.004459</td>\n",
       "      <td>82.320763</td>\n",
       "      <td>7.840207</td>\n",
       "      <td>263.964248</td>\n",
       "      <td>rice</td>\n",
       "    </tr>\n",
       "    <tr>\n",
       "      <th>3</th>\n",
       "      <td>74</td>\n",
       "      <td>35</td>\n",
       "      <td>40</td>\n",
       "      <td>26.491096</td>\n",
       "      <td>80.158363</td>\n",
       "      <td>6.980401</td>\n",
       "      <td>242.864034</td>\n",
       "      <td>rice</td>\n",
       "    </tr>\n",
       "    <tr>\n",
       "      <th>4</th>\n",
       "      <td>78</td>\n",
       "      <td>42</td>\n",
       "      <td>42</td>\n",
       "      <td>20.130175</td>\n",
       "      <td>81.604873</td>\n",
       "      <td>7.628473</td>\n",
       "      <td>262.717340</td>\n",
       "      <td>rice</td>\n",
       "    </tr>\n",
       "    <tr>\n",
       "      <th>5</th>\n",
       "      <td>69</td>\n",
       "      <td>37</td>\n",
       "      <td>42</td>\n",
       "      <td>23.058049</td>\n",
       "      <td>83.370118</td>\n",
       "      <td>7.073454</td>\n",
       "      <td>251.055000</td>\n",
       "      <td>rice</td>\n",
       "    </tr>\n",
       "    <tr>\n",
       "      <th>6</th>\n",
       "      <td>69</td>\n",
       "      <td>55</td>\n",
       "      <td>38</td>\n",
       "      <td>22.708838</td>\n",
       "      <td>82.639414</td>\n",
       "      <td>5.700806</td>\n",
       "      <td>271.324860</td>\n",
       "      <td>rice</td>\n",
       "    </tr>\n",
       "    <tr>\n",
       "      <th>7</th>\n",
       "      <td>94</td>\n",
       "      <td>53</td>\n",
       "      <td>40</td>\n",
       "      <td>20.277744</td>\n",
       "      <td>82.894086</td>\n",
       "      <td>5.718627</td>\n",
       "      <td>241.974195</td>\n",
       "      <td>rice</td>\n",
       "    </tr>\n",
       "    <tr>\n",
       "      <th>8</th>\n",
       "      <td>89</td>\n",
       "      <td>54</td>\n",
       "      <td>38</td>\n",
       "      <td>24.515881</td>\n",
       "      <td>83.535216</td>\n",
       "      <td>6.685346</td>\n",
       "      <td>230.446236</td>\n",
       "      <td>rice</td>\n",
       "    </tr>\n",
       "    <tr>\n",
       "      <th>9</th>\n",
       "      <td>68</td>\n",
       "      <td>58</td>\n",
       "      <td>38</td>\n",
       "      <td>23.223974</td>\n",
       "      <td>83.033227</td>\n",
       "      <td>6.336254</td>\n",
       "      <td>221.209196</td>\n",
       "      <td>rice</td>\n",
       "    </tr>\n",
       "  </tbody>\n",
       "</table>\n",
       "</div>"
      ],
      "text/plain": [
       "    N   P   K  temperature   humidity        ph    rainfall label\n",
       "0  90  42  43    20.879744  82.002744  6.502985  202.935536  rice\n",
       "1  85  58  41    21.770462  80.319644  7.038096  226.655537  rice\n",
       "2  60  55  44    23.004459  82.320763  7.840207  263.964248  rice\n",
       "3  74  35  40    26.491096  80.158363  6.980401  242.864034  rice\n",
       "4  78  42  42    20.130175  81.604873  7.628473  262.717340  rice\n",
       "5  69  37  42    23.058049  83.370118  7.073454  251.055000  rice\n",
       "6  69  55  38    22.708838  82.639414  5.700806  271.324860  rice\n",
       "7  94  53  40    20.277744  82.894086  5.718627  241.974195  rice\n",
       "8  89  54  38    24.515881  83.535216  6.685346  230.446236  rice\n",
       "9  68  58  38    23.223974  83.033227  6.336254  221.209196  rice"
      ]
     },
     "execution_count": 118,
     "metadata": {},
     "output_type": "execute_result"
    }
   ],
   "source": [
    "df.head(10)"
   ]
  },
  {
   "cell_type": "code",
   "execution_count": 119,
   "metadata": {},
   "outputs": [
    {
     "data": {
      "text/plain": [
       "17600"
      ]
     },
     "execution_count": 119,
     "metadata": {},
     "output_type": "execute_result"
    }
   ],
   "source": [
    "df.size #size of the dataset"
   ]
  },
  {
   "cell_type": "markdown",
   "metadata": {},
   "source": [
    "The size of the dataset is 17600"
   ]
  },
  {
   "cell_type": "code",
   "execution_count": 120,
   "metadata": {},
   "outputs": [
    {
     "data": {
      "text/plain": [
       "(2200, 8)"
      ]
     },
     "execution_count": 120,
     "metadata": {},
     "output_type": "execute_result"
    }
   ],
   "source": [
    "df.shape #checking no. of rows & no. of columns"
   ]
  },
  {
   "cell_type": "markdown",
   "metadata": {},
   "source": [
    "The shape of the dataset is 2200 rows and 8 columns"
   ]
  },
  {
   "cell_type": "code",
   "execution_count": 121,
   "metadata": {},
   "outputs": [
    {
     "data": {
      "text/plain": [
       "Index(['N', 'P', 'K', 'temperature', 'humidity', 'ph', 'rainfall', 'label'], dtype='object')"
      ]
     },
     "execution_count": 121,
     "metadata": {},
     "output_type": "execute_result"
    }
   ],
   "source": [
    "df.columns"
   ]
  },
  {
   "cell_type": "code",
   "execution_count": 122,
   "metadata": {},
   "outputs": [
    {
     "name": "stdout",
     "output_type": "stream",
     "text": [
      "<class 'pandas.core.frame.DataFrame'>\n",
      "RangeIndex: 2200 entries, 0 to 2199\n",
      "Data columns (total 8 columns):\n",
      " #   Column       Non-Null Count  Dtype  \n",
      "---  ------       --------------  -----  \n",
      " 0   N            2200 non-null   int64  \n",
      " 1   P            2200 non-null   int64  \n",
      " 2   K            2200 non-null   int64  \n",
      " 3   temperature  2200 non-null   float64\n",
      " 4   humidity     2200 non-null   float64\n",
      " 5   ph           2200 non-null   float64\n",
      " 6   rainfall     2200 non-null   float64\n",
      " 7   label        2200 non-null   object \n",
      "dtypes: float64(4), int64(3), object(1)\n",
      "memory usage: 137.6+ KB\n"
     ]
    }
   ],
   "source": [
    "df.info()"
   ]
  },
  {
   "cell_type": "code",
   "execution_count": 123,
   "metadata": {},
   "outputs": [
    {
     "data": {
      "text/plain": [
       "N              0\n",
       "P              0\n",
       "K              0\n",
       "temperature    0\n",
       "humidity       0\n",
       "ph             0\n",
       "rainfall       0\n",
       "label          0\n",
       "dtype: int64"
      ]
     },
     "execution_count": 123,
     "metadata": {},
     "output_type": "execute_result"
    }
   ],
   "source": [
    "df.isnull().sum()"
   ]
  },
  {
   "cell_type": "markdown",
   "metadata": {},
   "source": [
    "There are no misssing values"
   ]
  },
  {
   "cell_type": "code",
   "execution_count": 124,
   "metadata": {},
   "outputs": [
    {
     "data": {
      "text/plain": [
       "array(['rice', 'maize', 'chickpea', 'kidneybeans', 'pigeonpeas',\n",
       "       'mothbeans', 'mungbean', 'blackgram', 'lentil', 'pomegranate',\n",
       "       'banana', 'mango', 'grapes', 'watermelon', 'muskmelon', 'apple',\n",
       "       'orange', 'papaya', 'coconut', 'cotton', 'jute', 'coffee'],\n",
       "      dtype=object)"
      ]
     },
     "execution_count": 124,
     "metadata": {},
     "output_type": "execute_result"
    }
   ],
   "source": [
    "df['label'].unique()"
   ]
  },
  {
   "cell_type": "markdown",
   "metadata": {},
   "source": [
    "Above code shows us that in 'label' columns, these are the different types of crops"
   ]
  },
  {
   "cell_type": "code",
   "execution_count": 125,
   "metadata": {},
   "outputs": [
    {
     "data": {
      "text/plain": [
       "22"
      ]
     },
     "execution_count": 125,
     "metadata": {},
     "output_type": "execute_result"
    }
   ],
   "source": [
    "df['label'].nunique()"
   ]
  },
  {
   "cell_type": "markdown",
   "metadata": {},
   "source": [
    "It shows that there are 22 different types of crops present in 'label' column"
   ]
  },
  {
   "cell_type": "code",
   "execution_count": 126,
   "metadata": {},
   "outputs": [
    {
     "data": {
      "text/plain": [
       "rice           100\n",
       "maize          100\n",
       "jute           100\n",
       "cotton         100\n",
       "coconut        100\n",
       "papaya         100\n",
       "orange         100\n",
       "apple          100\n",
       "muskmelon      100\n",
       "watermelon     100\n",
       "grapes         100\n",
       "mango          100\n",
       "banana         100\n",
       "pomegranate    100\n",
       "lentil         100\n",
       "blackgram      100\n",
       "mungbean       100\n",
       "mothbeans      100\n",
       "pigeonpeas     100\n",
       "kidneybeans    100\n",
       "chickpea       100\n",
       "coffee         100\n",
       "Name: label, dtype: int64"
      ]
     },
     "execution_count": 126,
     "metadata": {},
     "output_type": "execute_result"
    }
   ],
   "source": [
    "df['label'].value_counts()"
   ]
  },
  {
   "cell_type": "markdown",
   "metadata": {},
   "source": [
    "It shows the number of , each different types of crop in 'label' columns.\n",
    "Eg:- Number of times, rice in present in 'label' column is 100"
   ]
  },
  {
   "cell_type": "code",
   "execution_count": 127,
   "metadata": {},
   "outputs": [
    {
     "data": {
      "text/plain": [
       "N                int64\n",
       "P                int64\n",
       "K                int64\n",
       "temperature    float64\n",
       "humidity       float64\n",
       "ph             float64\n",
       "rainfall       float64\n",
       "label           object\n",
       "dtype: object"
      ]
     },
     "execution_count": 127,
     "metadata": {},
     "output_type": "execute_result"
    }
   ],
   "source": [
    "df.dtypes"
   ]
  },
  {
   "cell_type": "markdown",
   "metadata": {},
   "source": [
    "It shows the datatypes of each column\n",
    "\n",
    "Everything looks fine "
   ]
  },
  {
   "cell_type": "code",
   "execution_count": 128,
   "metadata": {},
   "outputs": [
    {
     "data": {
      "text/html": [
       "<div>\n",
       "<style scoped>\n",
       "    .dataframe tbody tr th:only-of-type {\n",
       "        vertical-align: middle;\n",
       "    }\n",
       "\n",
       "    .dataframe tbody tr th {\n",
       "        vertical-align: top;\n",
       "    }\n",
       "\n",
       "    .dataframe thead th {\n",
       "        text-align: right;\n",
       "    }\n",
       "</style>\n",
       "<table border=\"1\" class=\"dataframe\">\n",
       "  <thead>\n",
       "    <tr style=\"text-align: right;\">\n",
       "      <th></th>\n",
       "      <th>count</th>\n",
       "      <th>mean</th>\n",
       "      <th>std</th>\n",
       "      <th>min</th>\n",
       "      <th>25%</th>\n",
       "      <th>50%</th>\n",
       "      <th>75%</th>\n",
       "      <th>max</th>\n",
       "    </tr>\n",
       "  </thead>\n",
       "  <tbody>\n",
       "    <tr>\n",
       "      <th>N</th>\n",
       "      <td>2200.0</td>\n",
       "      <td>50.551818</td>\n",
       "      <td>36.917334</td>\n",
       "      <td>0.000000</td>\n",
       "      <td>21.000000</td>\n",
       "      <td>37.000000</td>\n",
       "      <td>84.250000</td>\n",
       "      <td>140.000000</td>\n",
       "    </tr>\n",
       "    <tr>\n",
       "      <th>P</th>\n",
       "      <td>2200.0</td>\n",
       "      <td>53.362727</td>\n",
       "      <td>32.985883</td>\n",
       "      <td>5.000000</td>\n",
       "      <td>28.000000</td>\n",
       "      <td>51.000000</td>\n",
       "      <td>68.000000</td>\n",
       "      <td>145.000000</td>\n",
       "    </tr>\n",
       "    <tr>\n",
       "      <th>K</th>\n",
       "      <td>2200.0</td>\n",
       "      <td>48.149091</td>\n",
       "      <td>50.647931</td>\n",
       "      <td>5.000000</td>\n",
       "      <td>20.000000</td>\n",
       "      <td>32.000000</td>\n",
       "      <td>49.000000</td>\n",
       "      <td>205.000000</td>\n",
       "    </tr>\n",
       "    <tr>\n",
       "      <th>temperature</th>\n",
       "      <td>2200.0</td>\n",
       "      <td>25.616244</td>\n",
       "      <td>5.063749</td>\n",
       "      <td>8.825675</td>\n",
       "      <td>22.769375</td>\n",
       "      <td>25.598693</td>\n",
       "      <td>28.561654</td>\n",
       "      <td>43.675493</td>\n",
       "    </tr>\n",
       "    <tr>\n",
       "      <th>humidity</th>\n",
       "      <td>2200.0</td>\n",
       "      <td>71.481779</td>\n",
       "      <td>22.263812</td>\n",
       "      <td>14.258040</td>\n",
       "      <td>60.261953</td>\n",
       "      <td>80.473146</td>\n",
       "      <td>89.948771</td>\n",
       "      <td>99.981876</td>\n",
       "    </tr>\n",
       "    <tr>\n",
       "      <th>ph</th>\n",
       "      <td>2200.0</td>\n",
       "      <td>6.469480</td>\n",
       "      <td>0.773938</td>\n",
       "      <td>3.504752</td>\n",
       "      <td>5.971693</td>\n",
       "      <td>6.425045</td>\n",
       "      <td>6.923643</td>\n",
       "      <td>9.935091</td>\n",
       "    </tr>\n",
       "    <tr>\n",
       "      <th>rainfall</th>\n",
       "      <td>2200.0</td>\n",
       "      <td>103.463655</td>\n",
       "      <td>54.958389</td>\n",
       "      <td>20.211267</td>\n",
       "      <td>64.551686</td>\n",
       "      <td>94.867624</td>\n",
       "      <td>124.267508</td>\n",
       "      <td>298.560117</td>\n",
       "    </tr>\n",
       "  </tbody>\n",
       "</table>\n",
       "</div>"
      ],
      "text/plain": [
       "              count        mean        std        min        25%        50%  \\\n",
       "N            2200.0   50.551818  36.917334   0.000000  21.000000  37.000000   \n",
       "P            2200.0   53.362727  32.985883   5.000000  28.000000  51.000000   \n",
       "K            2200.0   48.149091  50.647931   5.000000  20.000000  32.000000   \n",
       "temperature  2200.0   25.616244   5.063749   8.825675  22.769375  25.598693   \n",
       "humidity     2200.0   71.481779  22.263812  14.258040  60.261953  80.473146   \n",
       "ph           2200.0    6.469480   0.773938   3.504752   5.971693   6.425045   \n",
       "rainfall     2200.0  103.463655  54.958389  20.211267  64.551686  94.867624   \n",
       "\n",
       "                    75%         max  \n",
       "N             84.250000  140.000000  \n",
       "P             68.000000  145.000000  \n",
       "K             49.000000  205.000000  \n",
       "temperature   28.561654   43.675493  \n",
       "humidity      89.948771   99.981876  \n",
       "ph             6.923643    9.935091  \n",
       "rainfall     124.267508  298.560117  "
      ]
     },
     "execution_count": 128,
     "metadata": {},
     "output_type": "execute_result"
    }
   ],
   "source": [
    "df.describe().T"
   ]
  },
  {
   "cell_type": "markdown",
   "metadata": {},
   "source": [
    "The df.describe().T method is used to generate a statistical summary of a dataset. \n",
    "\n",
    "df.describe().T will return a table that shows the following statistics for each column:\n",
    "\n",
    "count: the number of non-missing values in the column\n",
    "\n",
    "mean: the arithmetic mean of the values in the column\n",
    "\n",
    "std: the standard deviation of the values in the column\n",
    "\n",
    "min: the minimum value in the column\n",
    "\n",
    "25%: the 25th percentile of the values in the column\n",
    "\n",
    "50%: the median or 50th percentile of the values in the column\n",
    "\n",
    "75%: the 75th percentile of the values in the column\n",
    "\n",
    "max: the maximum value in the column"
   ]
  },
  {
   "cell_type": "markdown",
   "metadata": {},
   "source": [
    "## Checking For Outliers"
   ]
  },
  {
   "cell_type": "code",
   "execution_count": 129,
   "metadata": {},
   "outputs": [
    {
     "data": {
      "text/html": [
       "<div>\n",
       "<style scoped>\n",
       "    .dataframe tbody tr th:only-of-type {\n",
       "        vertical-align: middle;\n",
       "    }\n",
       "\n",
       "    .dataframe tbody tr th {\n",
       "        vertical-align: top;\n",
       "    }\n",
       "\n",
       "    .dataframe thead th {\n",
       "        text-align: right;\n",
       "    }\n",
       "</style>\n",
       "<table border=\"1\" class=\"dataframe\">\n",
       "  <thead>\n",
       "    <tr style=\"text-align: right;\">\n",
       "      <th></th>\n",
       "      <th>count</th>\n",
       "      <th>mean</th>\n",
       "      <th>std</th>\n",
       "      <th>min</th>\n",
       "      <th>1%</th>\n",
       "      <th>2%</th>\n",
       "      <th>3%</th>\n",
       "      <th>4%</th>\n",
       "      <th>5%</th>\n",
       "      <th>25%</th>\n",
       "      <th>50%</th>\n",
       "      <th>75%</th>\n",
       "      <th>90%</th>\n",
       "      <th>95%</th>\n",
       "      <th>96%</th>\n",
       "      <th>97%</th>\n",
       "      <th>98%</th>\n",
       "      <th>99%</th>\n",
       "      <th>max</th>\n",
       "    </tr>\n",
       "  </thead>\n",
       "  <tbody>\n",
       "    <tr>\n",
       "      <th>N</th>\n",
       "      <td>2200.0</td>\n",
       "      <td>50.551818</td>\n",
       "      <td>36.917334</td>\n",
       "      <td>0.000000</td>\n",
       "      <td>0.000000</td>\n",
       "      <td>1.000000</td>\n",
       "      <td>2.000000</td>\n",
       "      <td>3.000000</td>\n",
       "      <td>4.000000</td>\n",
       "      <td>21.000000</td>\n",
       "      <td>37.000000</td>\n",
       "      <td>84.250000</td>\n",
       "      <td>107.000000</td>\n",
       "      <td>116.000000</td>\n",
       "      <td>117.000000</td>\n",
       "      <td>119.000000</td>\n",
       "      <td>120.000000</td>\n",
       "      <td>129.010000</td>\n",
       "      <td>140.000000</td>\n",
       "    </tr>\n",
       "    <tr>\n",
       "      <th>P</th>\n",
       "      <td>2200.0</td>\n",
       "      <td>53.362727</td>\n",
       "      <td>32.985883</td>\n",
       "      <td>5.000000</td>\n",
       "      <td>5.990000</td>\n",
       "      <td>6.000000</td>\n",
       "      <td>7.000000</td>\n",
       "      <td>8.000000</td>\n",
       "      <td>10.000000</td>\n",
       "      <td>28.000000</td>\n",
       "      <td>51.000000</td>\n",
       "      <td>68.000000</td>\n",
       "      <td>89.100000</td>\n",
       "      <td>133.000000</td>\n",
       "      <td>136.000000</td>\n",
       "      <td>139.000000</td>\n",
       "      <td>140.020000</td>\n",
       "      <td>143.000000</td>\n",
       "      <td>145.000000</td>\n",
       "    </tr>\n",
       "    <tr>\n",
       "      <th>K</th>\n",
       "      <td>2200.0</td>\n",
       "      <td>48.149091</td>\n",
       "      <td>50.647931</td>\n",
       "      <td>5.000000</td>\n",
       "      <td>7.990000</td>\n",
       "      <td>9.000000</td>\n",
       "      <td>11.970000</td>\n",
       "      <td>14.000000</td>\n",
       "      <td>15.000000</td>\n",
       "      <td>20.000000</td>\n",
       "      <td>32.000000</td>\n",
       "      <td>49.000000</td>\n",
       "      <td>83.100000</td>\n",
       "      <td>199.000000</td>\n",
       "      <td>201.000000</td>\n",
       "      <td>202.000000</td>\n",
       "      <td>203.000000</td>\n",
       "      <td>204.000000</td>\n",
       "      <td>205.000000</td>\n",
       "    </tr>\n",
       "    <tr>\n",
       "      <th>temperature</th>\n",
       "      <td>2200.0</td>\n",
       "      <td>25.616244</td>\n",
       "      <td>5.063749</td>\n",
       "      <td>8.825675</td>\n",
       "      <td>11.827382</td>\n",
       "      <td>15.433360</td>\n",
       "      <td>16.787545</td>\n",
       "      <td>17.433494</td>\n",
       "      <td>17.915085</td>\n",
       "      <td>22.769375</td>\n",
       "      <td>25.598693</td>\n",
       "      <td>28.561654</td>\n",
       "      <td>31.330131</td>\n",
       "      <td>34.056636</td>\n",
       "      <td>34.873278</td>\n",
       "      <td>35.832756</td>\n",
       "      <td>38.063809</td>\n",
       "      <td>40.791352</td>\n",
       "      <td>43.675493</td>\n",
       "    </tr>\n",
       "    <tr>\n",
       "      <th>humidity</th>\n",
       "      <td>2200.0</td>\n",
       "      <td>71.481779</td>\n",
       "      <td>22.263812</td>\n",
       "      <td>14.258040</td>\n",
       "      <td>15.225297</td>\n",
       "      <td>16.419490</td>\n",
       "      <td>17.637857</td>\n",
       "      <td>18.713107</td>\n",
       "      <td>19.374917</td>\n",
       "      <td>60.261953</td>\n",
       "      <td>80.473146</td>\n",
       "      <td>89.948771</td>\n",
       "      <td>93.065588</td>\n",
       "      <td>94.368844</td>\n",
       "      <td>94.589080</td>\n",
       "      <td>94.794695</td>\n",
       "      <td>95.212759</td>\n",
       "      <td>96.966445</td>\n",
       "      <td>99.981876</td>\n",
       "    </tr>\n",
       "    <tr>\n",
       "      <th>ph</th>\n",
       "      <td>2200.0</td>\n",
       "      <td>6.469480</td>\n",
       "      <td>0.773938</td>\n",
       "      <td>3.504752</td>\n",
       "      <td>4.603202</td>\n",
       "      <td>4.760027</td>\n",
       "      <td>5.014436</td>\n",
       "      <td>5.261016</td>\n",
       "      <td>5.435112</td>\n",
       "      <td>5.971693</td>\n",
       "      <td>6.425045</td>\n",
       "      <td>6.923643</td>\n",
       "      <td>7.425390</td>\n",
       "      <td>7.748417</td>\n",
       "      <td>7.825626</td>\n",
       "      <td>7.976616</td>\n",
       "      <td>8.184598</td>\n",
       "      <td>8.736512</td>\n",
       "      <td>9.935091</td>\n",
       "    </tr>\n",
       "    <tr>\n",
       "      <th>rainfall</th>\n",
       "      <td>2200.0</td>\n",
       "      <td>103.463655</td>\n",
       "      <td>54.958389</td>\n",
       "      <td>20.211267</td>\n",
       "      <td>21.903847</td>\n",
       "      <td>24.199189</td>\n",
       "      <td>26.306835</td>\n",
       "      <td>28.678107</td>\n",
       "      <td>33.823512</td>\n",
       "      <td>64.551686</td>\n",
       "      <td>94.867624</td>\n",
       "      <td>124.267508</td>\n",
       "      <td>187.947933</td>\n",
       "      <td>209.542438</td>\n",
       "      <td>218.539872</td>\n",
       "      <td>231.388246</td>\n",
       "      <td>243.544823</td>\n",
       "      <td>267.991472</td>\n",
       "      <td>298.560117</td>\n",
       "    </tr>\n",
       "  </tbody>\n",
       "</table>\n",
       "</div>"
      ],
      "text/plain": [
       "              count        mean        std        min         1%         2%  \\\n",
       "N            2200.0   50.551818  36.917334   0.000000   0.000000   1.000000   \n",
       "P            2200.0   53.362727  32.985883   5.000000   5.990000   6.000000   \n",
       "K            2200.0   48.149091  50.647931   5.000000   7.990000   9.000000   \n",
       "temperature  2200.0   25.616244   5.063749   8.825675  11.827382  15.433360   \n",
       "humidity     2200.0   71.481779  22.263812  14.258040  15.225297  16.419490   \n",
       "ph           2200.0    6.469480   0.773938   3.504752   4.603202   4.760027   \n",
       "rainfall     2200.0  103.463655  54.958389  20.211267  21.903847  24.199189   \n",
       "\n",
       "                    3%         4%         5%        25%        50%  \\\n",
       "N             2.000000   3.000000   4.000000  21.000000  37.000000   \n",
       "P             7.000000   8.000000  10.000000  28.000000  51.000000   \n",
       "K            11.970000  14.000000  15.000000  20.000000  32.000000   \n",
       "temperature  16.787545  17.433494  17.915085  22.769375  25.598693   \n",
       "humidity     17.637857  18.713107  19.374917  60.261953  80.473146   \n",
       "ph            5.014436   5.261016   5.435112   5.971693   6.425045   \n",
       "rainfall     26.306835  28.678107  33.823512  64.551686  94.867624   \n",
       "\n",
       "                    75%         90%         95%         96%         97%  \\\n",
       "N             84.250000  107.000000  116.000000  117.000000  119.000000   \n",
       "P             68.000000   89.100000  133.000000  136.000000  139.000000   \n",
       "K             49.000000   83.100000  199.000000  201.000000  202.000000   \n",
       "temperature   28.561654   31.330131   34.056636   34.873278   35.832756   \n",
       "humidity      89.948771   93.065588   94.368844   94.589080   94.794695   \n",
       "ph             6.923643    7.425390    7.748417    7.825626    7.976616   \n",
       "rainfall     124.267508  187.947933  209.542438  218.539872  231.388246   \n",
       "\n",
       "                    98%         99%         max  \n",
       "N            120.000000  129.010000  140.000000  \n",
       "P            140.020000  143.000000  145.000000  \n",
       "K            203.000000  204.000000  205.000000  \n",
       "temperature   38.063809   40.791352   43.675493  \n",
       "humidity      95.212759   96.966445   99.981876  \n",
       "ph             8.184598    8.736512    9.935091  \n",
       "rainfall     243.544823  267.991472  298.560117  "
      ]
     },
     "execution_count": 129,
     "metadata": {},
     "output_type": "execute_result"
    }
   ],
   "source": [
    "df.describe(percentiles=[.01,.02,.03,.04,.05,.25,.5,.75,.9,.95,.96,.97,.98,.99]).T"
   ]
  },
  {
   "cell_type": "markdown",
   "metadata": {},
   "source": [
    "This code will generate a statistical summary of the dataset stored in the DataFrame df, \n",
    "including additional percentiles for each column. \n",
    "\n",
    "The '.T' method transposes the summary table so that the variables are listed in rows rather than columns.\n",
    "\n",
    "The percentiles argument is used to specify the list of percentiles that should be included in the summary table. \n",
    "\n",
    "In this case, the list includes the 1st, 2nd, 3rd, 4th, 5th, 25th, 50th (median), 75th, 90th, 95th, 96th, 97th, 98th, and 99th percentiles."
   ]
  },
  {
   "cell_type": "markdown",
   "metadata": {},
   "source": [
    "There are no outliers present in dataset"
   ]
  },
  {
   "cell_type": "code",
   "execution_count": 130,
   "metadata": {},
   "outputs": [
    {
     "data": {
      "text/plain": [
       "<AxesSubplot:>"
      ]
     },
     "execution_count": 130,
     "metadata": {},
     "output_type": "execute_result"
    },
    {
     "data": {
      "image/png": "[encoded data removed]",
      "text/plain": [
       "<Figure size 720x576 with 2 Axes>"
      ]
     },
     "metadata": {
      "needs_background": "light"
     },
     "output_type": "display_data"
    }
   ],
   "source": [
    "fig, ax = plt.subplots(figsize=(10, 8))  \n",
    "sns.heatmap(df.corr(), annot=True, fmt=\".2f\", linewidths=.5, ax=ax)"
   ]
  },
  {
   "cell_type": "markdown",
   "metadata": {},
   "source": [
    "This line of code creates a heatmap plot using the Seaborn library in Python. \n",
    "The plot visualizes the correlation matrix of the dataframe df, \n",
    "which represents the pairwise correlation between all the columns in the dataframe.\n",
    "\n",
    "The fig, ax = plt.subplots(figsize=(10, 8)) code initializes a new figure object and returns two variables: \n",
    "fig, which represents the overall figure, and \n",
    "ax, which represents the subplot within the figure. \n",
    "The figsize parameter sets the size of the figure to be 10 inches by 8 inches.\n",
    "\n",
    "The sns.heatmap() function creates the heatmap plot. \n",
    "The df.corr() parameter specifies the dataframe to use for computing the correlation matrix. \n",
    "The annot=True parameter adds numeric annotations to the cells of the heatmap. \n",
    "The fmt=\".2f\" parameter specifies that the annotations should be formatted to two decimal places. \n",
    "The linewidths=.5 parameter sets the width of the lines separating the cells of the heatmap to be 0.5. \n",
    "The ax=ax parameter specifies that the plot should be created on the previously defined subplot within the figure."
   ]
  },
  {
   "cell_type": "markdown",
   "metadata": {},
   "source": [
    "## Seperating features and target label"
   ]
  },
  {
   "cell_type": "code",
   "execution_count": 135,
   "metadata": {},
   "outputs": [],
   "source": [
    "features = df[['N', 'P','K','temperature', 'humidity', 'ph', 'rainfall']]\n",
    "target = df['label']"
   ]
  },
  {
   "cell_type": "code",
   "execution_count": 136,
   "metadata": {},
   "outputs": [],
   "source": [
    "# Initialzing empty lists to append all model's name and corresponding name\n",
    "acc = []\n",
    "model = []"
   ]
  },
  {
   "cell_type": "code",
   "execution_count": 137,
   "metadata": {},
   "outputs": [],
   "source": [
    "# Splitting into train and test data\n",
    "\n",
    "from sklearn.model_selection import train_test_split\n",
    "Xtrain, Xtest, Ytrain, Ytest = train_test_split(features,target,test_size = 0.2,random_state =2)"
   ]
  },
  {
   "cell_type": "markdown",
   "metadata": {},
   "source": [
    "This code snippet is using the train_test_split() function from the sklearn.model_selection module to split the dataset into training and testing sets.\n",
    "\n",
    "The function takes four arguments:\n",
    "\n",
    "features: a DataFrame or array-like object containing the feature data (i.e., the independent variables).\n",
    "\n",
    "target: a Series or array-like object containing the target data (i.e., the dependent variable).\n",
    "\n",
    "test_size: the proportion of the data to use for testing, expressed as a decimal between 0 and 1.\n",
    "\n",
    "random_state: a seed value for the random number generator, which ensures that the data is split in the same way each time the function is called with the same arguments.\n",
    "\n",
    "If the random_state parameter is set to a fixed value, such as random_state = 2, the function will generate the same random split of the data each time it is called with the same arguments.\n",
    "\n",
    "In other words, setting random_state = 2 ensures that the data is split in the same way each time you run the code, which is useful for reproducibility and consistency in your analysis.\n",
    "\n",
    "It is usually recommended to use a specific value for random_state so that the results can be reproduced in the future. If you set random_state to None, the function will generate a random split of the data each time it is called.\n",
    "\n",
    "The function returns four arrays:\n",
    "\n",
    "Xtrain: the feature data for the training set.\n",
    "\n",
    "Xtest: the feature data for the testing set.\n",
    "\n",
    "Ytrain: the target data for the training set.\n",
    "\n",
    "Ytest: the target data for the testing set.\n",
    "\n"
   ]
  },
  {
   "cell_type": "markdown",
   "metadata": {},
   "source": [
    "# Decision Tree"
   ]
  },
  {
   "cell_type": "code",
   "execution_count": 138,
   "metadata": {},
   "outputs": [
    {
     "name": "stdout",
     "output_type": "stream",
     "text": [
      "DecisionTrees's Accuracy is:  95.9090909090909\n",
      "================================================\n",
      "              precision    recall  f1-score   support\n",
      "\n",
      "       apple       1.00      1.00      1.00        13\n",
      "      banana       1.00      1.00      1.00        17\n",
      "   blackgram       0.80      1.00      0.89        16\n",
      "    chickpea       1.00      1.00      1.00        21\n",
      "     coconut       1.00      1.00      1.00        21\n",
      "      coffee       1.00      1.00      1.00        22\n",
      "      cotton       1.00      1.00      1.00        20\n",
      "      grapes       1.00      1.00      1.00        18\n",
      "        jute       0.84      0.96      0.90        28\n",
      " kidneybeans       1.00      0.79      0.88        14\n",
      "      lentil       0.95      0.83      0.88        23\n",
      "       maize       1.00      1.00      1.00        21\n",
      "       mango       1.00      1.00      1.00        26\n",
      "   mothbeans       0.67      0.74      0.70        19\n",
      "    mungbean       1.00      1.00      1.00        24\n",
      "   muskmelon       1.00      1.00      1.00        23\n",
      "      orange       1.00      1.00      1.00        29\n",
      "      papaya       1.00      1.00      1.00        19\n",
      "  pigeonpeas       1.00      1.00      1.00        18\n",
      " pomegranate       1.00      1.00      1.00        17\n",
      "        rice       0.92      0.69      0.79        16\n",
      "  watermelon       1.00      1.00      1.00        15\n",
      "\n",
      "    accuracy                           0.96       440\n",
      "   macro avg       0.96      0.95      0.96       440\n",
      "weighted avg       0.96      0.96      0.96       440\n",
      "\n"
     ]
    }
   ],
   "source": [
    "from sklearn.tree import DecisionTreeClassifier\n",
    "\n",
    "DecisionTree = DecisionTreeClassifier(criterion=\"entropy\",random_state=3,max_depth=6)\n",
    "\n",
    "DecisionTree.fit(Xtrain,Ytrain)\n",
    "\n",
    "predicted_values = DecisionTree.predict(Xtest)\n",
    "x = metrics.accuracy_score(Ytest, predicted_values)\n",
    "acc.append(x)\n",
    "model.append('Decision Tree')\n",
    "print(\"DecisionTrees's Accuracy is: \", x*100)\n",
    "print('================================================')\n",
    "\n",
    "\n",
    "print(classification_report(Ytest,predicted_values))"
   ]
  },
  {
   "cell_type": "markdown",
   "metadata": {},
   "source": [
    "from sklearn.tree import DecisionTreeClassifier\n",
    "\n",
    "This line imports the DecisionTreeClassifier class from the sklearn.tree module.\n",
    "\n",
    "-------------------------------------------------------------------------------------------------\n",
    "\n",
    "DecisionTree = DecisionTreeClassifier(criterion=\"entropy\",random_state=3,max_depth=6)\n",
    "\n",
    "This line creates a DecisionTreeClassifier object with the specified hyperparameters, which are:\n",
    "\n",
    "criterion=\"entropy\": This specifies that the entropy criterion should be used to measure the quality of a split.\n",
    "\n",
    "random_state=3: This sets the random seed for reproducibility.\n",
    "\n",
    "max_depth=6: This specifies the maximum depth of the decision tree.\n",
    "\n",
    "-----------------------------------------------------------------------------------------------------\n",
    "\n",
    "DecisionTree.fit(Xtrain,Ytrain)\n",
    "\n",
    "This line fits the decision tree classifier to the training data.\n",
    "\n",
    "---------------------------------------------------------------------------------------------------\n",
    "\n",
    "predicted_values = DecisionTree.predict(Xtest)\n",
    "\n",
    "This line uses the trained decision tree classifier to predict the labels for the test data.\n",
    "\n",
    "-----------------------------------------------------------------------------------------------------\n",
    "\n",
    "x = metrics.accuracy_score(Ytest, predicted_values)\n",
    "\n",
    "This line computes the accuracy of the predicted labels compared to the true labels.\n",
    "\n",
    "---------------------------------------------------------------------------------------------------\n",
    "\n",
    "acc.append(x)\n",
    "\n",
    "This line appends the accuracy score to the acc list.\n",
    "\n",
    "------------------------------------------------------------------------------------------------\n",
    "\n",
    "model.append('Decision Tree')\n",
    "\n",
    "This line appends the name of the model to the model list.\n",
    "\n",
    "---------------------------------------------------------------------------------------------\n",
    "\n",
    "print(\"DecisionTrees's Accuracy is: \", x*100)\n",
    "\n",
    "This line prints the accuracy of the decision tree classifier on the test data.\n",
    "\n",
    "---------------------------------------------------------------------------------------------\n",
    "\n",
    "\n",
    "print(classification_report(Ytest,predicted_values))\n",
    "\n",
    "This line prints a classification report that includes precision, recall, F1-score, and support for each class in the predicted labels compared to the true labels.\n",
    "\n",
    "\n",
    "\n"
   ]
  },
  {
   "cell_type": "code",
   "execution_count": 139,
   "metadata": {},
   "outputs": [],
   "source": [
    "from sklearn.model_selection import cross_val_score"
   ]
  },
  {
   "cell_type": "code",
   "execution_count": 140,
   "metadata": {},
   "outputs": [],
   "source": [
    "# Cross validation score (Decision Tree)\n",
    "score = cross_val_score(DecisionTree, features, target,cv=5)"
   ]
  },
  {
   "cell_type": "markdown",
   "metadata": {},
   "source": [
    "In this code, the cross_val_score function is used to perform cross-validation on a decision tree classifier model (DecisionTree). \n",
    "\n",
    "The feature and target data are passed as arguments, along with the cv argument which specifies the number of folds to use for cross-validation (in this case, 5).\n",
    "\n",
    "The cross_val_score function returns an array of scores, one for each fold of the cross-validation process. These scores can be used to evaluate the performance of the model and compare it to other models."
   ]
  },
  {
   "cell_type": "code",
   "execution_count": 141,
   "metadata": {},
   "outputs": [
    {
     "data": {
      "text/plain": [
       "array([0.98863636, 0.96590909, 0.98181818, 0.95909091, 0.96818182])"
      ]
     },
     "execution_count": 141,
     "metadata": {},
     "output_type": "execute_result"
    }
   ],
   "source": [
    "score"
   ]
  },
  {
   "cell_type": "markdown",
   "metadata": {},
   "source": [
    "# Guassian Naive Bayes"
   ]
  },
  {
   "cell_type": "code",
   "execution_count": 142,
   "metadata": {},
   "outputs": [
    {
     "name": "stdout",
     "output_type": "stream",
     "text": [
      "Naive Bayes's Accuracy is:  0.990909090909091\n",
      "================================================\n",
      "              precision    recall  f1-score   support\n",
      "\n",
      "       apple       1.00      1.00      1.00        13\n",
      "      banana       1.00      1.00      1.00        17\n",
      "   blackgram       1.00      1.00      1.00        16\n",
      "    chickpea       1.00      1.00      1.00        21\n",
      "     coconut       1.00      1.00      1.00        21\n",
      "      coffee       1.00      1.00      1.00        22\n",
      "      cotton       1.00      1.00      1.00        20\n",
      "      grapes       1.00      1.00      1.00        18\n",
      "        jute       0.88      1.00      0.93        28\n",
      " kidneybeans       1.00      1.00      1.00        14\n",
      "      lentil       1.00      1.00      1.00        23\n",
      "       maize       1.00      1.00      1.00        21\n",
      "       mango       1.00      1.00      1.00        26\n",
      "   mothbeans       1.00      1.00      1.00        19\n",
      "    mungbean       1.00      1.00      1.00        24\n",
      "   muskmelon       1.00      1.00      1.00        23\n",
      "      orange       1.00      1.00      1.00        29\n",
      "      papaya       1.00      1.00      1.00        19\n",
      "  pigeonpeas       1.00      1.00      1.00        18\n",
      " pomegranate       1.00      1.00      1.00        17\n",
      "        rice       1.00      0.75      0.86        16\n",
      "  watermelon       1.00      1.00      1.00        15\n",
      "\n",
      "    accuracy                           0.99       440\n",
      "   macro avg       0.99      0.99      0.99       440\n",
      "weighted avg       0.99      0.99      0.99       440\n",
      "\n"
     ]
    }
   ],
   "source": [
    "from sklearn.naive_bayes import GaussianNB\n",
    "\n",
    "NaiveBayes = GaussianNB()\n",
    "\n",
    "NaiveBayes.fit(Xtrain,Ytrain)\n",
    "\n",
    "predicted_values = NaiveBayes.predict(Xtest)\n",
    "x = metrics.accuracy_score(Ytest, predicted_values)\n",
    "acc.append(x)\n",
    "model.append('Naive Bayes')\n",
    "print(\"Naive Bayes's Accuracy is: \", x)\n",
    "print('================================================')\n",
    "\n",
    "print(classification_report(Ytest,predicted_values))"
   ]
  },
  {
   "cell_type": "markdown",
   "metadata": {},
   "source": [
    "from sklearn.naive_bayes import GaussianNB\n",
    "\n",
    "This imports the GaussianNB class from the sklearn.naive_bayes module. This class represents a Naive Bayes classifier.\n",
    "\n",
    "-----------------------------------------------------\n",
    "\n",
    "NaiveBayes = GaussianNB()\n",
    "\n",
    "This creates a new instance of the GaussianNB class and assigns it to the variable NaiveBayes. This object will be used to train the Naive Bayes classifier on the training data and make predictions on the test data.\n",
    "\n",
    "------------------------------------------------------\n",
    "\n",
    "NaiveBayes.fit(Xtrain,Ytrain)\n",
    "\n",
    "This method fits the Naive Bayes classifier to the training data Xtrain and Ytrain. \n",
    "\n",
    "------------------------------------------------------\n",
    "\n",
    "predicted_values = NaiveBayes.predict(Xtest)\n",
    "\n",
    "This method uses the trained Naive Bayes classifier to make predictions on the test data Xtest. The predicted labels are stored in the predicted_values variable.\n",
    "\n",
    "-------------------------------------------------------\n",
    "\n",
    "x = metrics.accuracy_score(Ytest, predicted_values)\n",
    "\n",
    "This line uses the accuracy_score function from the metrics module to compute the accuracy of the predicted labels (predicted_values) compared to the true labels (Ytest). The accuracy is a measure of the proportion of correctly classified samples.\n",
    "\n",
    "------------------------------------------------------\n",
    "\n",
    "acc.append(x)\n",
    "\n",
    "model.append('Naive Bayes')\n",
    "\n",
    "These lines append the accuracy (x) and the name of the model ('Naive Bayes') to the acc and model lists, respectively.\n",
    "\n",
    "------------------------------------------------------\n",
    "\n",
    "print(\"Naive Bayes's Accuracy is: \", x)\n",
    "\n",
    "These lines print the accuracy of the Naive Bayes classifier on the test data (x).\n",
    "\n",
    "-----------------------------------------------------\n",
    "\n",
    "print(classification_report(Ytest,predicted_values))\n",
    "\n",
    "This line uses the classification_report function from the sklearn.metrics module to print a summary of the performance of the Naive Bayes classifier on the test data. This includes the precision, recall, F1-score, and support for each class, as well as the overall accuracy."
   ]
  },
  {
   "cell_type": "code",
   "execution_count": 143,
   "metadata": {},
   "outputs": [
    {
     "data": {
      "text/plain": [
       "array([0.99772727, 0.99545455, 0.99545455, 0.99545455, 0.99090909])"
      ]
     },
     "execution_count": 143,
     "metadata": {},
     "output_type": "execute_result"
    }
   ],
   "source": [
    "# Cross validation score (NaiveBayes)\n",
    "score = cross_val_score(NaiveBayes,features,target,cv=5)\n",
    "score"
   ]
  },
  {
   "cell_type": "markdown",
   "metadata": {},
   "source": [
    "The cross_val_score function from the sklearn.model_selection module is used to perform cross-validation on the Naive Bayes classifier. \n",
    "\n",
    "This function takes as input the classifier (NaiveBayes), the features (features), the target variable (target), and the number of folds (cv=5).\n",
    "\n",
    "The function returns an array of scores, where each score is the accuracy of the classifier on a different fold of the data. \n",
    "\n",
    "By default, the scoring metric used is the accuracy_score.\n",
    "\n",
    "So, the score variable contains an array of cross-validation scores for the Naive Bayes classifier."
   ]
  },
  {
   "cell_type": "markdown",
   "metadata": {},
   "source": [
    "# Support Vector Machine (SVM)"
   ]
  },
  {
   "cell_type": "code",
   "execution_count": 144,
   "metadata": {},
   "outputs": [
    {
     "name": "stdout",
     "output_type": "stream",
     "text": [
      "SVM's Accuracy is:  0.9795454545454545\n",
      "              precision    recall  f1-score   support\n",
      "\n",
      "       apple       1.00      1.00      1.00        13\n",
      "      banana       1.00      1.00      1.00        17\n",
      "   blackgram       1.00      1.00      1.00        16\n",
      "    chickpea       1.00      1.00      1.00        21\n",
      "     coconut       1.00      1.00      1.00        21\n",
      "      coffee       1.00      0.95      0.98        22\n",
      "      cotton       0.95      1.00      0.98        20\n",
      "      grapes       1.00      1.00      1.00        18\n",
      "        jute       0.83      0.89      0.86        28\n",
      " kidneybeans       1.00      1.00      1.00        14\n",
      "      lentil       1.00      1.00      1.00        23\n",
      "       maize       1.00      0.95      0.98        21\n",
      "       mango       1.00      1.00      1.00        26\n",
      "   mothbeans       1.00      1.00      1.00        19\n",
      "    mungbean       1.00      1.00      1.00        24\n",
      "   muskmelon       1.00      1.00      1.00        23\n",
      "      orange       1.00      1.00      1.00        29\n",
      "      papaya       1.00      1.00      1.00        19\n",
      "  pigeonpeas       1.00      1.00      1.00        18\n",
      " pomegranate       1.00      1.00      1.00        17\n",
      "        rice       0.80      0.75      0.77        16\n",
      "  watermelon       1.00      1.00      1.00        15\n",
      "\n",
      "    accuracy                           0.98       440\n",
      "   macro avg       0.98      0.98      0.98       440\n",
      "weighted avg       0.98      0.98      0.98       440\n",
      "\n"
     ]
    }
   ],
   "source": [
    "from sklearn.svm import SVC\n",
    "# data normalization with sklearn\n",
    "from sklearn.preprocessing import MinMaxScaler\n",
    "# fit scaler on training data\n",
    "norm = MinMaxScaler().fit(Xtrain)\n",
    "X_train_norm = norm.transform(Xtrain)\n",
    "# transform testing dataabs\n",
    "X_test_norm = norm.transform(Xtest)\n",
    "SVM = SVC(kernel='poly', degree=3, C=1)\n",
    "SVM.fit(X_train_norm,Ytrain)\n",
    "predicted_values = SVM.predict(X_test_norm)\n",
    "x = metrics.accuracy_score(Ytest, predicted_values)\n",
    "acc.append(x)\n",
    "model.append('SVM')\n",
    "print(\"SVM's Accuracy is: \", x)\n",
    "\n",
    "print(classification_report(Ytest,predicted_values))"
   ]
  },
  {
   "cell_type": "markdown",
   "metadata": {},
   "source": [
    "from sklearn.svm import SVC\n",
    "\n",
    "from sklearn.preprocessing import MinMaxScaler\n",
    "\n",
    "These two lines import the SVC class for Support Vector Machines and the MinMaxScaler class for normalization, both from the sklearn package.\n",
    "\n",
    "--------------------------------------------------------------------------------------------\n",
    "norm = MinMaxScaler().fit(Xtrain)\n",
    "\n",
    "X_train_norm = norm.transform(Xtrain)\n",
    "\n",
    "X_test_norm = norm.transform(Xtest)\n",
    "\n",
    "These lines create a MinMaxScaler object, norm, and use it to normalize the training and test data. The fit method of MinMaxScaler is used to compute the scaling parameters based on the training data. The transform method is then used to apply these parameters to both the training and test data.\n",
    "\n",
    "--------------------------------------------------------------------------------------------\n",
    "SVM = SVC(kernel='poly', degree=3, C=1)\n",
    "\n",
    "This line creates an SVC object, SVM, with a polynomial kernel of degree 3 and a regularization parameter C of 1. The polynomial kernel can capture non-linear relationships between the features.\n",
    "\n",
    "--------------------------------------------------------------------------------------------\n",
    "SVM.fit(X_train_norm,Ytrain)\n",
    "\n",
    "This line trains the SVC object on the normalized training data (X_train_norm, Ytrain).\n",
    "\n",
    "--------------------------------------------------------------------------------------------\n",
    "predicted_values = SVM.predict(X_test_norm)\n",
    "\n",
    "This line uses the trained SVC object to predict the labels of the normalized test data (X_test_norm).\n",
    "\n",
    "---------------------------------------------------------------------------------------------\n",
    "x = metrics.accuracy_score(Ytest, predicted_values)\n",
    "\n",
    "acc.append(x)\n",
    "\n",
    "model.append('SVM')\n",
    "\n",
    "print(\"SVM's Accuracy is: \", x)\n",
    "\n",
    "These lines calculate the accuracy of the predicted labels (predicted_values) compared to the true labels of the test data (Ytest). The accuracy is then appended to the acc list and the name of the model ('SVM') is appended to the model list. Finally, the accuracy score is printed.\n",
    "\n",
    "--------------------------------------------------------------------------------------------\n",
    "print(classification_report(Ytest,predicted_values))\n",
    "\n",
    "This line prints a report on the precision, recall, F1 score, and support for each class in the predictions."
   ]
  },
  {
   "cell_type": "code",
   "execution_count": 145,
   "metadata": {},
   "outputs": [
    {
     "data": {
      "text/plain": [
       "array([0.97954545, 0.975     , 0.98863636, 0.98863636, 0.98181818])"
      ]
     },
     "execution_count": 145,
     "metadata": {},
     "output_type": "execute_result"
    }
   ],
   "source": [
    "# Cross validation score (SVM)\n",
    "score = cross_val_score(SVM,features,target,cv=5)\n",
    "score"
   ]
  },
  {
   "cell_type": "markdown",
   "metadata": {},
   "source": [
    "This code performs cross-validation on the support vector machine (SVM) model SVM.\n",
    "\n",
    "cross_val_score() is a function provided by scikit-learn's model_selection module that allows to evaluate a model by cross-validation. It takes the following parameters: the estimator (model object), the data (features), the target variable, and the number of folds for the cross-validation.\n",
    "\n",
    "In this case, the estimator is the SVM model SVM, and the features and target are features and target respectively. The cv parameter is set to 5, which means that the data will be split into 5 folds and the model will be trained and tested 5 times, with each fold being used as the test set once.\n",
    "\n",
    "The output of cross_val_score() is an array of scores, with one score for each fold."
   ]
  },
  {
   "cell_type": "markdown",
   "metadata": {},
   "source": [
    "# Logistic Regression"
   ]
  },
  {
   "cell_type": "code",
   "execution_count": 146,
   "metadata": {},
   "outputs": [
    {
     "name": "stdout",
     "output_type": "stream",
     "text": [
      "Logistic Regression's Accuracy is:  0.9522727272727273\n",
      "========================================================\n",
      "              precision    recall  f1-score   support\n",
      "\n",
      "       apple       1.00      1.00      1.00        13\n",
      "      banana       1.00      1.00      1.00        17\n",
      "   blackgram       0.86      0.75      0.80        16\n",
      "    chickpea       1.00      1.00      1.00        21\n",
      "     coconut       1.00      1.00      1.00        21\n",
      "      coffee       1.00      1.00      1.00        22\n",
      "      cotton       0.86      0.90      0.88        20\n",
      "      grapes       1.00      1.00      1.00        18\n",
      "        jute       0.84      0.93      0.88        28\n",
      " kidneybeans       1.00      1.00      1.00        14\n",
      "      lentil       0.88      1.00      0.94        23\n",
      "       maize       0.90      0.86      0.88        21\n",
      "       mango       0.96      1.00      0.98        26\n",
      "   mothbeans       0.84      0.84      0.84        19\n",
      "    mungbean       1.00      0.96      0.98        24\n",
      "   muskmelon       1.00      1.00      1.00        23\n",
      "      orange       1.00      1.00      1.00        29\n",
      "      papaya       1.00      0.95      0.97        19\n",
      "  pigeonpeas       1.00      1.00      1.00        18\n",
      " pomegranate       1.00      1.00      1.00        17\n",
      "        rice       0.85      0.69      0.76        16\n",
      "  watermelon       1.00      1.00      1.00        15\n",
      "\n",
      "    accuracy                           0.95       440\n",
      "   macro avg       0.95      0.95      0.95       440\n",
      "weighted avg       0.95      0.95      0.95       440\n",
      "\n"
     ]
    }
   ],
   "source": [
    "from sklearn.linear_model import LogisticRegression\n",
    "\n",
    "LogReg = LogisticRegression(random_state=2)\n",
    "\n",
    "LogReg.fit(Xtrain,Ytrain)\n",
    "\n",
    "predicted_values = LogReg.predict(Xtest)\n",
    "\n",
    "x = metrics.accuracy_score(Ytest, predicted_values)\n",
    "acc.append(x)\n",
    "model.append('Logistic Regression')\n",
    "print(\"Logistic Regression's Accuracy is: \", x)\n",
    "print('========================================================')\n",
    "\n",
    "print(classification_report(Ytest,predicted_values))"
   ]
  },
  {
   "cell_type": "markdown",
   "metadata": {},
   "source": [
    "from sklearn.linear_model import LogisticRegression\n",
    "\n",
    "This line imports the LogisticRegression class from the linear_model module of the sklearn library. This class is used to train a logistic regression model on the given dataset.\n",
    "\n",
    "-------------------------------------------------------\n",
    "LogReg = LogisticRegression(random_state=2)\n",
    "\n",
    "This line creates an instance of the LogisticRegression class and assigns it to the variable LogReg. The random_state parameter is set to 2, which ensures that the results will be reproducible.\n",
    "\n",
    "------------------------------------------------------\n",
    "LogReg.fit(Xtrain,Ytrain)\n",
    "\n",
    "This line fits the logistic regression model on the training data Xtrain and Ytrain using the fit() method of the LogisticRegression class.\n",
    "\n",
    "--------------------------------------------------------\n",
    "predicted_values = LogReg.predict(Xtest)\n",
    "\n",
    "This line predicts the labels for the test data Xtest using the predict() method of the LogisticRegression class and assigns the predicted values to the variable predicted_values.\n",
    "\n",
    "--------------------------------------------------------\n",
    "x = metrics.accuracy_score(Ytest, predicted_values)\n",
    "\n",
    "This line calculates the accuracy of the model by comparing the predicted labels with the actual labels in the test data and assigns the accuracy score to the variable x.\n",
    "\n",
    "-------------------------------------------------------\n",
    "acc.append(x)\n",
    "\n",
    "model.append('Logistic Regression')\n",
    "\n",
    "These two lines append the accuracy score x and the name of the model to the acc and model lists, respectively.\n",
    "\n",
    "-------------------------------------------------------\n",
    "print(\"Logistic Regression's Accuracy is: \", x)\n",
    "\n",
    "print('========================================================')\n",
    "\n",
    "print(classification_report(Ytest,predicted_values))\n",
    "\n",
    "These lines print the accuracy score of the logistic regression model and the classification report of the model using classification_report() function from sklearn.metrics. The classification report includes precision, recall, F1-score, and support for each class, which are useful metrics for evaluating the performance of the model."
   ]
  },
  {
   "cell_type": "code",
   "execution_count": 147,
   "metadata": {},
   "outputs": [
    {
     "data": {
      "text/plain": [
       "array([0.95      , 0.96590909, 0.94772727, 0.96590909, 0.94318182])"
      ]
     },
     "execution_count": 147,
     "metadata": {},
     "output_type": "execute_result"
    }
   ],
   "source": [
    "# Cross validation score (Logistic Regression)\n",
    "score = cross_val_score(LogReg,features,target,cv=5)\n",
    "score"
   ]
  },
  {
   "cell_type": "markdown",
   "metadata": {},
   "source": [
    "# Random Forest"
   ]
  },
  {
   "cell_type": "code",
   "execution_count": 148,
   "metadata": {},
   "outputs": [
    {
     "name": "stdout",
     "output_type": "stream",
     "text": [
      "RF's Accuracy is:  0.990909090909091\n",
      "================================================\n",
      "              precision    recall  f1-score   support\n",
      "\n",
      "       apple       1.00      1.00      1.00        13\n",
      "      banana       1.00      1.00      1.00        17\n",
      "   blackgram       0.94      1.00      0.97        16\n",
      "    chickpea       1.00      1.00      1.00        21\n",
      "     coconut       1.00      1.00      1.00        21\n",
      "      coffee       1.00      1.00      1.00        22\n",
      "      cotton       1.00      1.00      1.00        20\n",
      "      grapes       1.00      1.00      1.00        18\n",
      "        jute       0.90      1.00      0.95        28\n",
      " kidneybeans       1.00      1.00      1.00        14\n",
      "      lentil       1.00      1.00      1.00        23\n",
      "       maize       1.00      1.00      1.00        21\n",
      "       mango       1.00      1.00      1.00        26\n",
      "   mothbeans       1.00      0.95      0.97        19\n",
      "    mungbean       1.00      1.00      1.00        24\n",
      "   muskmelon       1.00      1.00      1.00        23\n",
      "      orange       1.00      1.00      1.00        29\n",
      "      papaya       1.00      1.00      1.00        19\n",
      "  pigeonpeas       1.00      1.00      1.00        18\n",
      " pomegranate       1.00      1.00      1.00        17\n",
      "        rice       1.00      0.81      0.90        16\n",
      "  watermelon       1.00      1.00      1.00        15\n",
      "\n",
      "    accuracy                           0.99       440\n",
      "   macro avg       0.99      0.99      0.99       440\n",
      "weighted avg       0.99      0.99      0.99       440\n",
      "\n"
     ]
    }
   ],
   "source": [
    "from sklearn.ensemble import RandomForestClassifier\n",
    "\n",
    "RF = RandomForestClassifier(n_estimators=20, random_state=0)\n",
    "RF.fit(Xtrain,Ytrain)\n",
    "\n",
    "predicted_values = RF.predict(Xtest)\n",
    "\n",
    "x = metrics.accuracy_score(Ytest, predicted_values)\n",
    "acc.append(x)\n",
    "model.append('RF')\n",
    "print(\"RF's Accuracy is: \", x)\n",
    "print('================================================')\n",
    "\n",
    "print(classification_report(Ytest,predicted_values))"
   ]
  },
  {
   "cell_type": "markdown",
   "metadata": {},
   "source": [
    "from sklearn.ensemble import RandomForestClassifier\n",
    "\n",
    "This imports the RandomForestClassifier class from the sklearn.ensemble module.\n",
    "\n",
    "-------------------------------------------------------\n",
    "RF = RandomForestClassifier(n_estimators=20, random_state=0)\n",
    "\n",
    "This creates an instance of the RandomForestClassifier class with n_estimators set to 20 and random_state set to 0. \n",
    "\n",
    "n_estimators specifies the number of trees in the random forest and random_state ensures that the results are reproducible.\n",
    "\n",
    "-------------------------------------------------------\n",
    "RF.fit(Xtrain,Ytrain)\n",
    "\n",
    "This fits the random forest classifier on the training data, Xtrain and Ytrain.\n",
    "\n",
    "------------------------------------------------------\n",
    "predicted_values = RF.predict(Xtest)\n",
    "\n",
    "This predicts the labels of the test set, Xtest, using the trained random forest classifier.\n",
    "\n",
    "------------------------------------------------------\n",
    "x = metrics.accuracy_score(Ytest, predicted_values)\n",
    "\n",
    "This calculates the accuracy of the random forest classifier on the test set by comparing the predicted labels, predicted_values, with the actual labels, Ytest, and computing the percentage of correct predictions.\n",
    "\n",
    "-------------------------------------------------------\n",
    "acc.append(x)\n",
    "\n",
    "model.append('RF')\n",
    "\n",
    "This appends the accuracy score, x, and the name of the model, 'RF', to the acc and model lists, respectively.\n",
    "\n",
    "-------------------------------------------------------\n",
    "print(\"RF's Accuracy is: \", x)\n",
    "\n",
    "This prints the accuracy score of the random forest classifier on the test set.\n",
    "\n",
    "------------------------------------------------------\n",
    "print(classification_report(Ytest,predicted_values))\n",
    "\n",
    "This line print the classification report for the random forest classifier, which includes precision, recall, f1-score, and support for each class, as well as the macro and weighted average of these metrics. \n",
    "\n",
    "The classification_report function is imported from sklearn.metrics."
   ]
  },
  {
   "cell_type": "code",
   "execution_count": 149,
   "metadata": {},
   "outputs": [
    {
     "data": {
      "text/plain": [
       "array([0.99772727, 0.99545455, 0.99772727, 0.99318182, 0.98863636])"
      ]
     },
     "execution_count": 149,
     "metadata": {},
     "output_type": "execute_result"
    }
   ],
   "source": [
    "# Cross validation score (Random Forest)\n",
    "score = cross_val_score(RF,features,target,cv=5)\n",
    "score"
   ]
  },
  {
   "cell_type": "markdown",
   "metadata": {},
   "source": [
    "This code calculates the cross validation score for the Random Forest model.\n",
    "\n",
    "Here, the RF model is used as the estimator, features is the input features matrix, target is the target variable, and cv=5 specifies the number of folds to be 5. \n",
    "\n",
    "The cross-validation score is returned as an array of values."
   ]
  },
  {
   "cell_type": "markdown",
   "metadata": {},
   "source": [
    "## Accuracy Comparison"
   ]
  },
  {
   "cell_type": "code",
   "execution_count": 150,
   "metadata": {},
   "outputs": [
    {
     "data": {
      "text/plain": [
       "<AxesSubplot:title={'center':'Accuracy Comparison Between Different Algorithm'}, xlabel='Algorithm', ylabel='Accuracy'>"
      ]
     },
     "execution_count": 150,
     "metadata": {},
     "output_type": "execute_result"
    },
    {
     "data": {
      "image/png": "[encoded data removed]",
      "text/plain": [
       "<Figure size 800x400 with 1 Axes>"
      ]
     },
     "metadata": {
      "needs_background": "light"
     },
     "output_type": "display_data"
    }
   ],
   "source": [
    "plt.figure(figsize=[8,4],dpi = 100)\n",
    "plt.title('Accuracy Comparison Between Different Algorithm')\n",
    "plt.ylabel('Accuracy')\n",
    "plt.xlabel('Algorithm')\n",
    "sns.barplot(x=model, y=acc, data=df, orient='v')"
   ]
  },
  {
   "cell_type": "markdown",
   "metadata": {},
   "source": [
    "This code block plots a bar chart that compares the accuracy of different machine learning algorithms used to predict crop labels.\n",
    "\n",
    "plt.figure(figsize=[8,4],dpi = 100) creates a new figure object with a size of 8 by 4 inches and a DPI of 100.\n",
    "\n",
    "plt.title('Accuracy Comparison Between Different Algorithm') sets the title of the plot.\n",
    "\n",
    "plt.ylabel('Accuracy') sets the y-axis label.\n",
    "\n",
    "plt.xlabel('Algorithm') sets the x-axis label.\n",
    "\n",
    "sns.barplot(x=model, y=acc, data=df, orient='v') plots a vertical bar chart with model on the x-axis and acc on the y-axis."
   ]
  },
  {
   "cell_type": "code",
   "execution_count": 151,
   "metadata": {},
   "outputs": [
    {
     "name": "stdout",
     "output_type": "stream",
     "text": [
      "Decision Tree -->> 0.9590909090909091\n",
      "================================================\n",
      "Naive Bayes -->> 0.990909090909091\n",
      "================================================\n",
      "SVM -->> 0.9795454545454545\n",
      "================================================\n",
      "Logistic Regression -->> 0.9522727272727273\n",
      "================================================\n",
      "RF -->> 0.990909090909091\n",
      "================================================\n"
     ]
    }
   ],
   "source": [
    "accuracy_models = dict(zip(model, acc))\n",
    "for k, v in accuracy_models.items():\n",
    "    print (k, '-->>', v)\n",
    "    \n",
    "    print('================================================')"
   ]
  },
  {
   "cell_type": "markdown",
   "metadata": {},
   "source": [
    "This code creates a dictionary called accuracy_models by using zip() function to combine two lists, model and acc, where model contains the names of machine learning algorithms and acc contains the corresponding accuracy scores achieved by the algorithms.\n",
    "\n",
    "Then, the for loop is used to iterate over the items of accuracy_models. During each iteration, the algorithm name and its corresponding accuracy score are printed out."
   ]
  },
  {
   "cell_type": "markdown",
   "metadata": {},
   "source": [
    "## Making a prediction"
   ]
  },
  {
   "cell_type": "code",
   "execution_count": 152,
   "metadata": {},
   "outputs": [
    {
     "name": "stdout",
     "output_type": "stream",
     "text": [
      "['coffee']\n"
     ]
    }
   ],
   "source": [
    "data = np.array([[104,18, 30, 23.603016, 60.3, 6.7, 140.91]])\n",
    "prediction = RF.predict(data)\n",
    "print(prediction)"
   ]
  },
  {
   "cell_type": "code",
   "execution_count": 153,
   "metadata": {},
   "outputs": [
    {
     "name": "stdout",
     "output_type": "stream",
     "text": [
      "['mothbeans']\n"
     ]
    }
   ],
   "source": [
    "data = np.array([[35, 51, 17, 28.79929247 , 49.84213387, 3.558822825, 40.85534718]])\n",
    "prediction = RF.predict(data)\n",
    "print(prediction)"
   ]
  },
  {
   "cell_type": "code",
   "execution_count": 154,
   "metadata": {},
   "outputs": [
    {
     "name": "stdout",
     "output_type": "stream",
     "text": [
      "['maize']\n"
     ]
    }
   ],
   "source": [
    "data = np.array([[65, 28, 17, 25.43323 , 56.445, 6.1211, 89.0023]])\n",
    "prediction = RF.predict(data)\n",
    "print(prediction)"
   ]
  },
  {
   "cell_type": "code",
   "execution_count": null,
   "metadata": {},
   "outputs": [],
   "source": []
  },
  {
   "cell_type": "code",
   "execution_count": null,
   "metadata": {},
   "outputs": [],
   "source": []
  }
 ],
 "metadata": {
  "kernelspec": {
   "display_name": "Python 3 (ipykernel)",
   "language": "python",
   "name": "python3"
  },
  "language_info": {
   "codemirror_mode": {
    "name": "ipython",
    "version": 3
   },
   "file_extension": ".py",
   "mimetype": "text/x-python",
   "name": "python",
   "nbconvert_exporter": "python",
   "pygments_lexer": "ipython3",
   "version": "3.9.12"
  }
 },
 "nbformat": 4,
 "nbformat_minor": 4
}
